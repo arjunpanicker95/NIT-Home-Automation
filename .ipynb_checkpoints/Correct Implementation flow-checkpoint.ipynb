{
 "cells": [
  {
   "cell_type": "code",
   "execution_count": 1,
   "metadata": {},
   "outputs": [],
   "source": [
    "import fasttext\n",
    "import pandas as pd\n",
    "import numpy as np\n",
    "import _pickle"
   ]
  },
  {
   "cell_type": "code",
   "execution_count": 12,
   "metadata": {},
   "outputs": [],
   "source": [
    "class CONFIG:\n",
    "    '''\n",
    "    Global config class.\n",
    "    '''\n",
    "    GLOBAL_DATA_DIR = './dataset'\n",
    "    GLOBAL_PREPROCESSING_DIR = '/preprocessing_data'\n",
    "    GLOBAL_MRD_DIR = '/translations_data'\n",
    "    DATASET_LOC = GLOBAL_DATA_DIR + '/home_appliance_commands.csv'\n",
    "    STOP_WORDS_LOC = GLOBAL_PREPROCESSING_DIR + '/stop_words.txt'\n",
    "    MRD_SMS_LOC = GLOBAL_MRD_DIR +  '/'\n",
    "    \n",
    "    def __init__(self):\n",
    "        pass"
   ]
  },
  {
   "cell_type": "code",
   "execution_count": null,
   "metadata": {},
   "outputs": [],
   "source": [
    "class Preprocessing:\n",
    "    '''\n",
    "    The preprocessing steps include:\n",
    "        1. Lower case conversion\n",
    "        2. Stop word removal\n",
    "        3. Multilingual translation using an MRD\n",
    "    '''\n",
    "    def preprocessDateset(data):\n",
    "        # Convert the commands to lower case and store them as a new feature\n",
    "        data['commands'] = pp.to_lower(data['commands'])\n",
    "\n",
    "        # Fetch stop words if needed otherwise allow the custumutils\n",
    "        # package to fetch them\n",
    "        stopWords = getStopWords()\n",
    "        data['commands'] = data['commands'].apply(pp.remove_stop_words)"
   ]
  },
  {
   "cell_type": "code",
   "execution_count": 13,
   "metadata": {
    "scrolled": true
   },
   "outputs": [
    {
     "data": {
      "text/html": [
       "<div>\n",
       "<style scoped>\n",
       "    .dataframe tbody tr th:only-of-type {\n",
       "        vertical-align: middle;\n",
       "    }\n",
       "\n",
       "    .dataframe tbody tr th {\n",
       "        vertical-align: top;\n",
       "    }\n",
       "\n",
       "    .dataframe thead th {\n",
       "        text-align: right;\n",
       "    }\n",
       "</style>\n",
       "<table border=\"1\" class=\"dataframe\">\n",
       "  <thead>\n",
       "    <tr style=\"text-align: right;\">\n",
       "      <th></th>\n",
       "      <th>Batti bujha dae</th>\n",
       "      <th>__label__light_off</th>\n",
       "    </tr>\n",
       "  </thead>\n",
       "  <tbody>\n",
       "    <tr>\n",
       "      <th>0</th>\n",
       "      <td>balab bujha dae</td>\n",
       "      <td>__label__light_off</td>\n",
       "    </tr>\n",
       "    <tr>\n",
       "      <th>1</th>\n",
       "      <td>balab band kar dae</td>\n",
       "      <td>__label__light_off</td>\n",
       "    </tr>\n",
       "    <tr>\n",
       "      <th>2</th>\n",
       "      <td>light band kr do</td>\n",
       "      <td>__label__light_off</td>\n",
       "    </tr>\n",
       "    <tr>\n",
       "      <th>3</th>\n",
       "      <td>light bujha do</td>\n",
       "      <td>__label__light_off</td>\n",
       "    </tr>\n",
       "    <tr>\n",
       "      <th>4</th>\n",
       "      <td>light off kar de</td>\n",
       "      <td>__label__light_off</td>\n",
       "    </tr>\n",
       "  </tbody>\n",
       "</table>\n",
       "</div>"
      ],
      "text/plain": [
       "      Batti bujha dae  __label__light_off\n",
       "0     balab bujha dae  __label__light_off\n",
       "1  balab band kar dae  __label__light_off\n",
       "2    light band kr do  __label__light_off\n",
       "3      light bujha do  __label__light_off\n",
       "4    light off kar de  __label__light_off"
      ]
     },
     "execution_count": 13,
     "metadata": {},
     "output_type": "execute_result"
    }
   ],
   "source": [
    "# Load the dataset\n",
    "col_names = ['command', 'label']\n",
    "df = pd.read_csv(CONFIG.DATASET_LOC)\n",
    "df.head()"
   ]
  },
  {
   "cell_type": "code",
   "execution_count": null,
   "metadata": {},
   "outputs": [],
   "source": []
  }
 ],
 "metadata": {
  "kernelspec": {
   "display_name": "Python 3",
   "language": "python",
   "name": "python3"
  },
  "language_info": {
   "codemirror_mode": {
    "name": "ipython",
    "version": 3
   },
   "file_extension": ".py",
   "mimetype": "text/x-python",
   "name": "python",
   "nbconvert_exporter": "python",
   "pygments_lexer": "ipython3",
   "version": "3.7.7"
  }
 },
 "nbformat": 4,
 "nbformat_minor": 4
}
